{
 "cells": [
  {
   "cell_type": "raw",
   "id": "72a3f1bf-a46a-4bc1-8d12-4307915796e1",
   "metadata": {},
   "source": [
    "Lab Exercise: Reading in database files\n",
    "Create a variable, path, containing the path to the baseball.db contained in resources/\n",
    "Create a connection, con, that is connected to database at path\n",
    "Create a variable, query, containing a SQL query which reads in all data from the allstarfull table\n",
    "Create a variable, observations, by using pandas' read_sql\n",
    "Optional\n",
    "Create a variable, tables, which reads in all data from the table sqlite_master\n",
    "Pretend that you were interesting in creating a new baseball hall of fame. Join and analyze the tables to evaluate the top 3 all time best baseball players."
   ]
  },
  {
   "cell_type": "code",
   "execution_count": 1,
   "id": "b21c09d2-3146-4f3c-9b07-ed20c7703560",
   "metadata": {},
   "outputs": [],
   "source": [
    "# Imports\n",
    "import sqlite3 as sq3\n",
    "import pandas.io.sql as pds\n",
    "import pandas as pd"
   ]
  },
  {
   "cell_type": "code",
   "execution_count": 2,
   "id": "131e035a-8847-4d67-8bcc-f0155304f5e2",
   "metadata": {},
   "outputs": [],
   "source": [
    "# Initialize path to SQLite databasejdbc:sqlite:/C:/__tmp/test/sqlite/jdbcTest.db\n",
    "path = 'baseball.db'\n",
    "con = sq3.Connection(path)"
   ]
  },
  {
   "cell_type": "code",
   "execution_count": 5,
   "id": "b0b043f7-aac4-4875-afb3-7e15d7fd4a38",
   "metadata": {},
   "outputs": [
    {
     "name": "stdout",
     "output_type": "stream",
     "text": [
      "      index   playerID  yearID  gameNum        gameID teamID lgID   GP  \\\n",
      "0         0  gomezle01    1933        0  ALS193307060    NYA   AL  1.0   \n",
      "1         1  ferreri01    1933        0  ALS193307060    BOS   AL  1.0   \n",
      "2         2  gehrilo01    1933        0  ALS193307060    NYA   AL  1.0   \n",
      "3         3  gehrich01    1933        0  ALS193307060    DET   AL  1.0   \n",
      "4         4  dykesji01    1933        0  ALS193307060    CHA   AL  1.0   \n",
      "...     ...        ...     ...      ...           ...    ...  ...  ...   \n",
      "5143   5143  seageco01    2016        0  ALS201607120    LAN   NL  1.0   \n",
      "5144   5144  strasst01    2016        0  ALS201607120    WAS   NL  0.0   \n",
      "5145   5145  syndeno01    2016        0  ALS201607120    NYN   NL  0.0   \n",
      "5146   5146  teherju01    2016        0  ALS201607120    ATL   NL  1.0   \n",
      "5147   5147  zobribe01    2016        0  ALS201607120    CHN   NL  1.0   \n",
      "\n",
      "      startingPos  \n",
      "0             1.0  \n",
      "1             2.0  \n",
      "2             3.0  \n",
      "3             4.0  \n",
      "4             5.0  \n",
      "...           ...  \n",
      "5143          NaN  \n",
      "5144          NaN  \n",
      "5145          NaN  \n",
      "5146          NaN  \n",
      "5147          4.0  \n",
      "\n",
      "[5148 rows x 9 columns]\n"
     ]
    }
   ],
   "source": [
    "query=\"\"\"\n",
    "SELECT *\n",
    "    FROM allstarfull\n",
    "    ;\n",
    "\"\"\"\n",
    "obs= pd.read_sql(query,con)\n",
    "\n",
    "print(obs)"
   ]
  },
  {
   "cell_type": "code",
   "execution_count": 9,
   "id": "f75e4b2b-37ca-4d00-9ba1-8072256be834",
   "metadata": {},
   "outputs": [
    {
     "name": "stdout",
     "output_type": "stream",
     "text": [
      "    playerID  games_played  avg_starting_position\n",
      "0  musiast01          24.0               6.357143\n",
      "1   mayswi01          24.0               8.000000\n",
      "2  aaronha01          24.0               8.470588\n"
     ]
    }
   ],
   "source": [
    "best =\"\"\"\n",
    "SELECT playerID, sum(GP) AS games_played, AVG(startingPos) AS avg_starting_position\n",
    "    FROM allstarfull\n",
    "    GROUP BY playerID\n",
    "    ORDER BY games_played DESC, avg_starting_position ASC\n",
    "    LIMIT 3;\n",
    "\"\"\"\n",
    "bestq = pd.read_sql(best, con)\n",
    "print(bestq.head())\n"
   ]
  },
  {
   "cell_type": "code",
   "execution_count": null,
   "id": "b5629d38-4bc9-4a13-82ac-6c30e0839c94",
   "metadata": {},
   "outputs": [],
   "source": []
  }
 ],
 "metadata": {
  "kernelspec": {
   "display_name": "Python 3 (ipykernel)",
   "language": "python",
   "name": "python3"
  },
  "language_info": {
   "codemirror_mode": {
    "name": "ipython",
    "version": 3
   },
   "file_extension": ".py",
   "mimetype": "text/x-python",
   "name": "python",
   "nbconvert_exporter": "python",
   "pygments_lexer": "ipython3",
   "version": "3.8.3"
  }
 },
 "nbformat": 4,
 "nbformat_minor": 5
}
